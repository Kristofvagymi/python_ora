{
 "cells": [
  {
   "cell_type": "markdown",
   "id": "a4cd7d9f",
   "metadata": {},
   "source": [
    "# Üdvözöllek a harmadik feladatban"
   ]
  },
  {
   "cell_type": "markdown",
   "id": "d33cbe73",
   "metadata": {},
   "source": [
    "Na ezek szerint sikerültek a telepítések, jöhetnek a tényleges feladatok.<br>\n",
    "Minden feladatban egy függvényt kell megírni\n",
    "<br>\n",
    "Python help és syntax: https://www.w3schools.com/python/python_syntax.asp"
   ]
  },
  {
   "cell_type": "markdown",
   "id": "1eeee78d",
   "metadata": {},
   "source": [
    "### Jupyter alapok\n",
    "<br>\n",
    "A fejlesztés cellákban történik, ahova Python kódrészleteket lehet írni. Ezeket egy Python kernel futtatja majd visszaadja az eredményét. Minden cellának az eredménye a memóriában marad, amíg nem indítod újra a kernelt. Ha egy függvény celláját átírod azt futtatni kell mielőtt meghívod.\n",
    "<br>\n",
    "Help menu > keyboard shortcuts tanulmányozása"
   ]
  },
  {
   "cell_type": "markdown",
   "id": "367e0a86",
   "metadata": {},
   "source": [
    "Cella futtatása -> Shift+Enter"
   ]
  },
  {
   "cell_type": "code",
   "execution_count": 1,
   "id": "0cb2eab0",
   "metadata": {},
   "outputs": [
    {
     "name": "stdout",
     "output_type": "stream",
     "text": [
      "Hello world\n"
     ]
    }
   ],
   "source": [
    "print('Hello world')"
   ]
  },
  {
   "cell_type": "code",
   "execution_count": 2,
   "id": "04877e98",
   "metadata": {},
   "outputs": [
    {
     "name": "stdout",
     "output_type": "stream",
     "text": [
      "12\n"
     ]
    }
   ],
   "source": [
    "print(8+4)"
   ]
  },
  {
   "cell_type": "code",
   "execution_count": 3,
   "id": "d158ca0d",
   "metadata": {},
   "outputs": [],
   "source": [
    "x = 15"
   ]
  },
  {
   "cell_type": "code",
   "execution_count": 4,
   "id": "ab326c50",
   "metadata": {},
   "outputs": [
    {
     "data": {
      "text/plain": [
       "15"
      ]
     },
     "execution_count": 4,
     "metadata": {},
     "output_type": "execute_result"
    }
   ],
   "source": [
    "x"
   ]
  },
  {
   "cell_type": "markdown",
   "id": "22482316",
   "metadata": {},
   "source": [
    "### Első feladat\n",
    "<br>\n",
    "Minden páros szám kiírása 100-ig"
   ]
  },
  {
   "cell_type": "code",
   "execution_count": 5,
   "id": "43bf7759",
   "metadata": {},
   "outputs": [],
   "source": [
    "def print_evens():\n",
    "    pass"
   ]
  },
  {
   "cell_type": "code",
   "execution_count": 6,
   "id": "b74a888e",
   "metadata": {},
   "outputs": [],
   "source": [
    "print_evens()"
   ]
  },
  {
   "cell_type": "markdown",
   "id": "4e59bb40",
   "metadata": {},
   "source": [
    "### Második feladat"
   ]
  },
  {
   "cell_type": "markdown",
   "id": "2d27a8cc",
   "metadata": {},
   "source": [
    "Lista minimumának, maximuma, mediánja, átlagának és egyedi elemeinek kiíratása"
   ]
  },
  {
   "cell_type": "code",
   "execution_count": 7,
   "id": "81337bc1",
   "metadata": {},
   "outputs": [],
   "source": [
    "example_list = [1412,123,1245,12,41,24,12,41,24,1,4,12,41,24,312,3,12,31,24,12,412,4]"
   ]
  },
  {
   "cell_type": "markdown",
   "id": "fbc13d36",
   "metadata": {},
   "source": [
    "### Harmadik feladat"
   ]
  },
  {
   "cell_type": "markdown",
   "id": "ef263602",
   "metadata": {},
   "source": [
    "Két szám legnagyobb közös osztójának meghatározása"
   ]
  },
  {
   "cell_type": "code",
   "execution_count": 8,
   "id": "9a60eb90",
   "metadata": {},
   "outputs": [],
   "source": [
    "def print_max_common_divisor(a, b):\n",
    "    pass"
   ]
  },
  {
   "cell_type": "code",
   "execution_count": 9,
   "id": "70e07e1e",
   "metadata": {},
   "outputs": [],
   "source": [
    "print_max_common_divisor(24, 36) # 12-nek kell lennie"
   ]
  },
  {
   "cell_type": "code",
   "execution_count": 10,
   "id": "78118f9b",
   "metadata": {},
   "outputs": [],
   "source": [
    "print_max_common_divisor(12412,96) # 4-nek kell lennie"
   ]
  },
  {
   "cell_type": "code",
   "execution_count": null,
   "id": "fa4793f0",
   "metadata": {},
   "outputs": [],
   "source": []
  }
 ],
 "metadata": {
  "kernelspec": {
   "display_name": "Python 3 (ipykernel)",
   "language": "python",
   "name": "python3"
  },
  "language_info": {
   "codemirror_mode": {
    "name": "ipython",
    "version": 3
   },
   "file_extension": ".py",
   "mimetype": "text/x-python",
   "name": "python",
   "nbconvert_exporter": "python",
   "pygments_lexer": "ipython3",
   "version": "3.10.0"
  }
 },
 "nbformat": 4,
 "nbformat_minor": 5
}
