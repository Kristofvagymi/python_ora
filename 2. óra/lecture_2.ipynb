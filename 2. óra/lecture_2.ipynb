{
 "cells": [
  {
   "cell_type": "markdown",
   "id": "8e3c6c1d",
   "metadata": {},
   "source": [
    "# Köszöntelek a BrutálisPython kurzus második óráján"
   ]
  },
  {
   "cell_type": "markdown",
   "id": "027d3158",
   "metadata": {},
   "source": [
    "### Első feladat"
   ]
  },
  {
   "cell_type": "markdown",
   "id": "5914e9c3",
   "metadata": {},
   "source": [
    "*String függvények gyarkorlása*<br>\n",
    "<br>\n",
    "Használj mindenhol string függvényeket<br>"
   ]
  },
  {
   "cell_type": "code",
   "execution_count": 1,
   "id": "e116635b",
   "metadata": {},
   "outputs": [],
   "source": [
    "example_str = 'Ezután mehet hozzá a liszt és a só. Folyamatos kevergetés mellet elkezdhetjük hozzáönteni a tejet. A kevergetés alatt azt értem, hogy folyamatosan pörög a habverő vagy a botmixer. Van olyan palacsinta recept is amiben írnak egy teáskanál sütőport is. Kipróbáltam így is úgy is és szerintem teljesen felesleges bele a sütőpor, de ha gondolod tégy egy próbát te is.'"
   ]
  },
  {
   "cell_type": "markdown",
   "id": "6a7864b6",
   "metadata": {},
   "source": [
    "Bontsd fel a stringet szavanként egy listába és írd ki a szavak számát"
   ]
  },
  {
   "cell_type": "code",
   "execution_count": null,
   "id": "563896b3",
   "metadata": {},
   "outputs": [],
   "source": []
  },
  {
   "cell_type": "markdown",
   "id": "de8712ad",
   "metadata": {},
   "source": [
    "Szerepel-e a **kutya** szó a szövegben ?"
   ]
  },
  {
   "cell_type": "code",
   "execution_count": null,
   "id": "1b9e0d18",
   "metadata": {},
   "outputs": [],
   "source": []
  },
  {
   "cell_type": "markdown",
   "id": "49e13833",
   "metadata": {},
   "source": [
    "Szerepel-e a **palacsinta** szó a szövegben ?"
   ]
  },
  {
   "cell_type": "code",
   "execution_count": null,
   "id": "ed179bcd",
   "metadata": {},
   "outputs": [],
   "source": []
  },
  {
   "cell_type": "markdown",
   "id": "f4ab5cc8",
   "metadata": {},
   "source": [
    "Hányszor szerepel az **is** szó a szövegben ?"
   ]
  },
  {
   "cell_type": "code",
   "execution_count": null,
   "id": "174e087f",
   "metadata": {},
   "outputs": [],
   "source": []
  },
  {
   "cell_type": "markdown",
   "id": "827c45d2",
   "metadata": {},
   "source": [
    "A **string_list** elemeit fűzd össze egy szövegbe vesszővel elválasztva"
   ]
  },
  {
   "cell_type": "code",
   "execution_count": 2,
   "id": "f57abf92",
   "metadata": {},
   "outputs": [],
   "source": [
    "string_list = ['alma', 'fasz', 'körte', 'manorudi', 'ORBAN', 'VIKTOR', 'MAGYARORSZAG', 'KIRALYA']"
   ]
  },
  {
   "cell_type": "code",
   "execution_count": null,
   "id": "1c525a22",
   "metadata": {},
   "outputs": [],
   "source": []
  },
  {
   "cell_type": "markdown",
   "id": "bcf3ddb5",
   "metadata": {},
   "source": [
    "### Második feladat"
   ]
  },
  {
   "cell_type": "markdown",
   "id": "8d64e7d3",
   "metadata": {},
   "source": [
    "*Adatstruktúrák*<br>"
   ]
  },
  {
   "cell_type": "markdown",
   "id": "3bc143f8",
   "metadata": {},
   "source": [
    "### Lista"
   ]
  },
  {
   "cell_type": "markdown",
   "id": "827cc06e",
   "metadata": {},
   "source": [
    "A listát talán nem kell túlmagyarázni."
   ]
  },
  {
   "cell_type": "code",
   "execution_count": 3,
   "id": "6c9d3a95",
   "metadata": {},
   "outputs": [],
   "source": [
    "example_list = []"
   ]
  },
  {
   "cell_type": "markdown",
   "id": "10229810",
   "metadata": {},
   "source": [
    "Add hozzá a listához, az összes héttel osztható számot 1000-ig"
   ]
  },
  {
   "cell_type": "code",
   "execution_count": null,
   "id": "f1aebc24",
   "metadata": {},
   "outputs": [],
   "source": []
  },
  {
   "cell_type": "markdown",
   "id": "9d7c8286",
   "metadata": {},
   "source": [
    "Add össze a listában kapott számokat"
   ]
  },
  {
   "cell_type": "code",
   "execution_count": 4,
   "id": "e8c0cb60",
   "metadata": {},
   "outputs": [],
   "source": [
    "def calculate_list_sum(local_list):\n",
    "    \n",
    "    # Placeholder, insert code here\n",
    "    list_sum_local = 0\n",
    "    \n",
    "    return list_sum_local"
   ]
  },
  {
   "cell_type": "code",
   "execution_count": 5,
   "id": "a4ceaa47",
   "metadata": {},
   "outputs": [],
   "source": [
    "list_sum = calculate_list_sum(example_list)"
   ]
  },
  {
   "cell_type": "code",
   "execution_count": 6,
   "id": "beaf166a",
   "metadata": {
    "scrolled": true
   },
   "outputs": [
    {
     "ename": "AssertionError",
     "evalue": "",
     "output_type": "error",
     "traceback": [
      "\u001b[1;31m---------------------------------------------------------------------------\u001b[0m",
      "\u001b[1;31mAssertionError\u001b[0m                            Traceback (most recent call last)",
      "\u001b[1;32mC:\\Users\\IVANIC~1\\AppData\\Local\\Temp/ipykernel_14224/3854631422.py\u001b[0m in \u001b[0;36m<module>\u001b[1;34m\u001b[0m\n\u001b[1;32m----> 1\u001b[1;33m \u001b[1;32massert\u001b[0m \u001b[0mlist_sum\u001b[0m \u001b[1;33m==\u001b[0m \u001b[0msum\u001b[0m\u001b[1;33m(\u001b[0m\u001b[1;33m[\u001b[0m\u001b[0mi\u001b[0m \u001b[1;32mfor\u001b[0m \u001b[0mi\u001b[0m \u001b[1;32min\u001b[0m \u001b[0mrange\u001b[0m\u001b[1;33m(\u001b[0m\u001b[1;36m0\u001b[0m\u001b[1;33m,\u001b[0m\u001b[1;36m1000\u001b[0m\u001b[1;33m)\u001b[0m \u001b[1;32mif\u001b[0m \u001b[0mi\u001b[0m \u001b[1;33m%\u001b[0m \u001b[1;36m7\u001b[0m \u001b[1;33m==\u001b[0m \u001b[1;36m0\u001b[0m\u001b[1;33m]\u001b[0m\u001b[1;33m)\u001b[0m\u001b[1;33m\u001b[0m\u001b[1;33m\u001b[0m\u001b[0m\n\u001b[0m",
      "\u001b[1;31mAssertionError\u001b[0m: "
     ]
    }
   ],
   "source": [
    "assert list_sum == sum([i for i in range(0,1000) if i % 7 == 0])"
   ]
  },
  {
   "cell_type": "markdown",
   "id": "5cb935a5",
   "metadata": {},
   "source": [
    "### Dictionary"
   ]
  },
  {
   "cell_type": "markdown",
   "id": "b64ab8af",
   "metadata": {},
   "source": [
    "A dictionary-ban kulcs érték párokat lehet tárolni. Ezeket lehet módosítani és lehet hozzáadni plusz kulcs érték párokat."
   ]
  },
  {
   "cell_type": "code",
   "execution_count": null,
   "id": "af572ddb",
   "metadata": {},
   "outputs": [],
   "source": [
    "example_dictionary = {'key': 'value'}"
   ]
  },
  {
   "cell_type": "markdown",
   "id": "6293ba17",
   "metadata": {},
   "source": [
    "Írasd ki a **key** kulcs értékét"
   ]
  },
  {
   "cell_type": "code",
   "execution_count": null,
   "id": "d6a75a47",
   "metadata": {},
   "outputs": [],
   "source": []
  },
  {
   "cell_type": "markdown",
   "id": "8f9ddefa",
   "metadata": {},
   "source": [
    "Add hozzá a dictionaryhoz a kedvenc egysejtűdet és kedvenc focicsapatodat a Unicellular és FavouriteTeam kulcsokkal"
   ]
  },
  {
   "cell_type": "code",
   "execution_count": null,
   "id": "e2ff3935",
   "metadata": {},
   "outputs": [],
   "source": []
  },
  {
   "cell_type": "markdown",
   "id": "c7854bb6",
   "metadata": {},
   "source": [
    "Változtasd meg a **key** kulcs értékét **GammaKey**-re"
   ]
  },
  {
   "cell_type": "code",
   "execution_count": null,
   "id": "abf16eb2",
   "metadata": {},
   "outputs": [],
   "source": []
  },
  {
   "cell_type": "markdown",
   "id": "4f531fd6",
   "metadata": {},
   "source": [
    "írasd ki a dictionary kulcsait"
   ]
  },
  {
   "cell_type": "code",
   "execution_count": null,
   "id": "43fec9ac",
   "metadata": {},
   "outputs": [],
   "source": []
  },
  {
   "cell_type": "markdown",
   "id": "13a0ff63",
   "metadata": {},
   "source": [
    "írasd ki a dictionary értékeit"
   ]
  },
  {
   "cell_type": "code",
   "execution_count": null,
   "id": "c5fe9d84",
   "metadata": {},
   "outputs": [],
   "source": []
  },
  {
   "cell_type": "markdown",
   "id": "7c487930",
   "metadata": {},
   "source": [
    "### Harmadik feladat"
   ]
  },
  {
   "cell_type": "markdown",
   "id": "f0609403",
   "metadata": {},
   "source": [
    "*File kezelés*<br>\n",
    "File felolvasása<br>\n",
    "Olvasd be egy változóba a **Palacsinta-receptek.txt** teljes tartalmát"
   ]
  },
  {
   "cell_type": "code",
   "execution_count": null,
   "id": "a17f4eb0",
   "metadata": {},
   "outputs": [],
   "source": []
  },
  {
   "cell_type": "markdown",
   "id": "3b6faa17",
   "metadata": {},
   "source": [
    "### Negyedik feladat"
   ]
  },
  {
   "cell_type": "markdown",
   "id": "a0c469f3",
   "metadata": {},
   "source": [
    "*Érdekes feladat*<br>\n",
    "Egy dictionary-be tedd bele a **Harmadik feladat**ban beolvasott szöveg szavait és előfordulási számait."
   ]
  },
  {
   "cell_type": "code",
   "execution_count": null,
   "id": "2f9b73df",
   "metadata": {},
   "outputs": [],
   "source": []
  },
  {
   "cell_type": "markdown",
   "id": "d5092070",
   "metadata": {},
   "source": [
    "írasd ki a 10 leggyakoribb szót előfordulási számaikkal"
   ]
  },
  {
   "cell_type": "code",
   "execution_count": null,
   "id": "1b37d8a8",
   "metadata": {},
   "outputs": [],
   "source": []
  }
 ],
 "metadata": {
  "kernelspec": {
   "display_name": "Python 3 (ipykernel)",
   "language": "python",
   "name": "python3"
  },
  "language_info": {
   "codemirror_mode": {
    "name": "ipython",
    "version": 3
   },
   "file_extension": ".py",
   "mimetype": "text/x-python",
   "name": "python",
   "nbconvert_exporter": "python",
   "pygments_lexer": "ipython3",
   "version": "3.10.1"
  }
 },
 "nbformat": 4,
 "nbformat_minor": 5
}
