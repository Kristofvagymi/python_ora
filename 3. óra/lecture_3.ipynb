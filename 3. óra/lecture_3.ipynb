{
 "cells": [
  {
   "cell_type": "markdown",
   "id": "f0260090",
   "metadata": {},
   "source": [
    "# Harmadik óra"
   ]
  },
  {
   "cell_type": "markdown",
   "id": "e8d2fbba",
   "metadata": {},
   "source": [
    "Üdvözöllek a Brutális Python kurzus harmadik óráján. Az első részben "
   ]
  },
  {
   "cell_type": "markdown",
   "id": "e0d8b6ef",
   "metadata": {},
   "source": [
    "## Általános programozási tudnivalók"
   ]
  },
  {
   "cell_type": "markdown",
   "id": "89a0ad3a",
   "metadata": {},
   "source": [
    "A python egy dinamikus típusu programozási nyelv, tehát a változók típusa nem statikus"
   ]
  },
  {
   "cell_type": "code",
   "execution_count": 1,
   "id": "c144b9ee",
   "metadata": {},
   "outputs": [
    {
     "data": {
      "text/plain": [
       "'string'"
      ]
     },
     "execution_count": 1,
     "metadata": {},
     "output_type": "execute_result"
    }
   ],
   "source": [
    "a = 'string'\n",
    "a"
   ]
  },
  {
   "cell_type": "code",
   "execution_count": 2,
   "id": "d40ec7af",
   "metadata": {},
   "outputs": [
    {
     "data": {
      "text/plain": [
       "23423"
      ]
     },
     "execution_count": 2,
     "metadata": {},
     "output_type": "execute_result"
    }
   ],
   "source": [
    "a = 23423\n",
    "a"
   ]
  },
  {
   "cell_type": "code",
   "execution_count": 3,
   "id": "0ede9fa0",
   "metadata": {},
   "outputs": [
    {
     "data": {
      "text/plain": [
       "[1, {'asd': 3}, [1, 'asd'], 'asd']"
      ]
     },
     "execution_count": 3,
     "metadata": {},
     "output_type": "execute_result"
    }
   ],
   "source": [
    "l = [1, {'asd': 3}, [1,'asd'], 'asd']\n",
    "l"
   ]
  },
  {
   "cell_type": "markdown",
   "id": "74715f84",
   "metadata": {},
   "source": [
    "Globális és lokális változók"
   ]
  },
  {
   "cell_type": "markdown",
   "id": "b5abef0b",
   "metadata": {},
   "source": [
    "A globálisan létrehozott változók elérhetőek mindenhol a program futása során. A lokális változók viszont csak abban a scope-ban ahol létre lettek hozva."
   ]
  },
  {
   "cell_type": "code",
   "execution_count": 5,
   "id": "0bd062b1",
   "metadata": {},
   "outputs": [],
   "source": [
    "global_var = 'global var'"
   ]
  },
  {
   "cell_type": "code",
   "execution_count": 7,
   "id": "74f44912",
   "metadata": {},
   "outputs": [],
   "source": [
    "def fun():\n",
    "    local_var = 'local var'\n",
    "    \n",
    "    print(global_var)\n",
    "    print(local_var)"
   ]
  },
  {
   "cell_type": "code",
   "execution_count": 8,
   "id": "5a185a4c",
   "metadata": {},
   "outputs": [
    {
     "name": "stdout",
     "output_type": "stream",
     "text": [
      "global var\n",
      "local var\n"
     ]
    }
   ],
   "source": [
    "fun()"
   ]
  },
  {
   "cell_type": "markdown",
   "id": "cf093add",
   "metadata": {},
   "source": [
    "A lokális változót globálisan nem érjük el."
   ]
  },
  {
   "cell_type": "code",
   "execution_count": 9,
   "id": "db204a54",
   "metadata": {},
   "outputs": [
    {
     "ename": "NameError",
     "evalue": "name 'local_var' is not defined",
     "output_type": "error",
     "traceback": [
      "\u001b[1;31m---------------------------------------------------------------------------\u001b[0m",
      "\u001b[1;31mNameError\u001b[0m                                 Traceback (most recent call last)",
      "\u001b[1;32m~\\AppData\\Local\\Temp/ipykernel_12360/1445025415.py\u001b[0m in \u001b[0;36m<module>\u001b[1;34m\u001b[0m\n\u001b[1;32m----> 1\u001b[1;33m \u001b[0mprint\u001b[0m\u001b[1;33m(\u001b[0m\u001b[0mlocal_var\u001b[0m\u001b[1;33m)\u001b[0m\u001b[1;33m\u001b[0m\u001b[1;33m\u001b[0m\u001b[0m\n\u001b[0m",
      "\u001b[1;31mNameError\u001b[0m: name 'local_var' is not defined"
     ]
    }
   ],
   "source": [
    "print(local_var)"
   ]
  },
  {
   "cell_type": "markdown",
   "id": "edf70f3a",
   "metadata": {},
   "source": [
    "De létre tudunk hozni globális változót lokálisan is a global kulcsszóval"
   ]
  },
  {
   "cell_type": "code",
   "execution_count": 10,
   "id": "f0a6bcfd",
   "metadata": {},
   "outputs": [],
   "source": [
    "def create_global_var():\n",
    "    global new_global_variable\n",
    "    \n",
    "    new_global_variable = 'im global too'"
   ]
  },
  {
   "cell_type": "code",
   "execution_count": 11,
   "id": "f6db572a",
   "metadata": {},
   "outputs": [],
   "source": [
    "create_global_var()"
   ]
  },
  {
   "cell_type": "code",
   "execution_count": 13,
   "id": "73609279",
   "metadata": {},
   "outputs": [
    {
     "name": "stdout",
     "output_type": "stream",
     "text": [
      "im global too\n"
     ]
    }
   ],
   "source": [
    "print(new_global_variable)"
   ]
  },
  {
   "cell_type": "markdown",
   "id": "076713be",
   "metadata": {},
   "source": [
    "## Excel a férfiaknak"
   ]
  },
  {
   "cell_type": "markdown",
   "id": "6d534a14",
   "metadata": {},
   "source": [
    "Telepítsd a *pandas* package-t.<br>\n",
    "A feladatokat egy melburne-i ingatlan tranzakciókat tartalmazó adathalmazon fogjuk végezni.<br>\n",
    "https://pandas.pydata.org/docs/reference/frame.html"
   ]
  },
  {
   "cell_type": "code",
   "execution_count": 1,
   "id": "3ddc4842",
   "metadata": {},
   "outputs": [],
   "source": [
    "import pandas"
   ]
  },
  {
   "cell_type": "code",
   "execution_count": 3,
   "id": "cfad9541",
   "metadata": {},
   "outputs": [],
   "source": [
    "df = pandas.read_csv('melburne_housing.csv')"
   ]
  },
  {
   "cell_type": "markdown",
   "id": "6fb335a2",
   "metadata": {},
   "source": [
    "írasd ki a DataFrame dimenzióit."
   ]
  },
  {
   "cell_type": "code",
   "execution_count": null,
   "id": "3bce593d",
   "metadata": {},
   "outputs": [],
   "source": []
  },
  {
   "cell_type": "markdown",
   "id": "eb899ed7",
   "metadata": {},
   "source": [
    "írasd ki a DF első 10 sorát."
   ]
  },
  {
   "cell_type": "code",
   "execution_count": null,
   "id": "3bf845a2",
   "metadata": {},
   "outputs": [],
   "source": []
  },
  {
   "cell_type": "markdown",
   "id": "e9008e53",
   "metadata": {},
   "source": [
    "írasd ki a DF 10 utolsó sorát"
   ]
  },
  {
   "cell_type": "code",
   "execution_count": null,
   "id": "4e5dbdee",
   "metadata": {},
   "outputs": [],
   "source": []
  },
  {
   "cell_type": "markdown",
   "id": "8faf0890",
   "metadata": {},
   "source": [
    "### Statisztika Pandassal"
   ]
  },
  {
   "cell_type": "markdown",
   "id": "77eaea7a",
   "metadata": {},
   "source": [
    "Milyen drága a legdrágább ingatlan ?"
   ]
  },
  {
   "cell_type": "code",
   "execution_count": null,
   "id": "9bf8ab06",
   "metadata": {},
   "outputs": [],
   "source": []
  },
  {
   "cell_type": "markdown",
   "id": "f81c5ea8",
   "metadata": {},
   "source": [
    "Mekkora a legnagyobb területű ház ?"
   ]
  },
  {
   "cell_type": "code",
   "execution_count": null,
   "id": "04a976a1",
   "metadata": {},
   "outputs": [],
   "source": []
  },
  {
   "cell_type": "markdown",
   "id": "0d61f328",
   "metadata": {},
   "source": [
    "Mi a legdrágább ház címe és hány szobás ?"
   ]
  },
  {
   "cell_type": "code",
   "execution_count": null,
   "id": "08bec7fa",
   "metadata": {},
   "outputs": [],
   "source": []
  },
  {
   "cell_type": "markdown",
   "id": "423a3636",
   "metadata": {},
   "source": [
    "Mi az árak átlaga és mi az árak mediánja, mekkora a különbség, mivel magyarázható ?"
   ]
  },
  {
   "cell_type": "code",
   "execution_count": null,
   "id": "572c28a9",
   "metadata": {},
   "outputs": [],
   "source": []
  },
  {
   "cell_type": "code",
   "execution_count": null,
   "id": "90be1ff7",
   "metadata": {},
   "outputs": [],
   "source": []
  },
  {
   "cell_type": "code",
   "execution_count": null,
   "id": "914f314d",
   "metadata": {},
   "outputs": [],
   "source": []
  },
  {
   "cell_type": "markdown",
   "id": "981ec8f3",
   "metadata": {},
   "source": [
    "### Szűrések és traszformációk"
   ]
  },
  {
   "cell_type": "markdown",
   "id": "79079b8e",
   "metadata": {},
   "source": [
    "Melyik a legkorábban végbement tranzakció ? (dátummá castolás)"
   ]
  },
  {
   "cell_type": "code",
   "execution_count": null,
   "id": "9e7c6101",
   "metadata": {},
   "outputs": [],
   "source": []
  },
  {
   "cell_type": "markdown",
   "id": "69de7cd4",
   "metadata": {},
   "source": [
    "Melyik a 10 leggyakoribb irányítószám ? (ciklus nélkül)"
   ]
  },
  {
   "cell_type": "code",
   "execution_count": null,
   "id": "c78b53c4",
   "metadata": {},
   "outputs": [],
   "source": []
  },
  {
   "cell_type": "markdown",
   "id": "8954dd82",
   "metadata": {},
   "source": [
    "Hány ingatlannál nincs megadva az ingatlan területe ?"
   ]
  },
  {
   "cell_type": "code",
   "execution_count": null,
   "id": "d520805b",
   "metadata": {},
   "outputs": [],
   "source": []
  },
  {
   "cell_type": "markdown",
   "id": "d2a2ed14",
   "metadata": {},
   "source": [
    "Hány lakásnak van több, mint egy parkolója ? (_Car_ oszlop)"
   ]
  },
  {
   "cell_type": "code",
   "execution_count": null,
   "id": "387344d8",
   "metadata": {},
   "outputs": [],
   "source": []
  },
  {
   "cell_type": "markdown",
   "id": "500771b2",
   "metadata": {},
   "source": [
    "Hozz létre egy új oszlopot _FamilyCar_ néven, aminek az értéke **True**, ha több, mint egy autó parkolhat a háznál. Más esetben __False__."
   ]
  },
  {
   "cell_type": "code",
   "execution_count": null,
   "id": "23e67a8b",
   "metadata": {},
   "outputs": [],
   "source": []
  },
  {
   "cell_type": "markdown",
   "id": "b1bd0459",
   "metadata": {},
   "source": [
    "Melyik a 10 legdrágább átlagárú kerület ? (_Suburb_)"
   ]
  },
  {
   "cell_type": "code",
   "execution_count": null,
   "id": "04c627e4",
   "metadata": {},
   "outputs": [],
   "source": []
  },
  {
   "cell_type": "markdown",
   "id": "4b923ac2",
   "metadata": {},
   "source": [
    "Hány háznál van több fürdőszoba(_Bathroom_), mint parkoló(_Car_) ?"
   ]
  },
  {
   "cell_type": "code",
   "execution_count": null,
   "id": "72e29ade",
   "metadata": {},
   "outputs": [],
   "source": []
  },
  {
   "cell_type": "markdown",
   "id": "152fffd3",
   "metadata": {},
   "source": [
    "Készíts egy histogramot a szobák számáról, azokról az ingatlanokról ahol kevesebb, mint 10 szoba van."
   ]
  },
  {
   "cell_type": "code",
   "execution_count": null,
   "id": "4ddac295",
   "metadata": {},
   "outputs": [],
   "source": []
  }
 ],
 "metadata": {
  "kernelspec": {
   "display_name": "Python 3 (ipykernel)",
   "language": "python",
   "name": "python3"
  },
  "language_info": {
   "codemirror_mode": {
    "name": "ipython",
    "version": 3
   },
   "file_extension": ".py",
   "mimetype": "text/x-python",
   "name": "python",
   "nbconvert_exporter": "python",
   "pygments_lexer": "ipython3",
   "version": "3.10.8"
  }
 },
 "nbformat": 4,
 "nbformat_minor": 5
}
