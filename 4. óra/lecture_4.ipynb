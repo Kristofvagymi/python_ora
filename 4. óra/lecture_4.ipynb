{
 "cells": [
  {
   "cell_type": "markdown",
   "id": "4a944d5d",
   "metadata": {},
   "source": [
    "# Brutális Python kurzus 4. óra"
   ]
  },
  {
   "cell_type": "markdown",
   "id": "722e7c84",
   "metadata": {},
   "source": [
    "Ezen az órán a listák és listaszerű objektumok trükkös kezeléséről tanulunk."
   ]
  },
  {
   "cell_type": "code",
   "execution_count": 1,
   "id": "9cadc648",
   "metadata": {},
   "outputs": [],
   "source": [
    "example_list = ['Kedves','Ügyfelünk, Csatolva','küldjük','a','BudapestGO','applikációban','történt','vásárlásról','készült','9204945678','számú elektronikus','számlát.', 'Kérdés/kérés','esetén','fordulj','munkatársainkhoz','a','következő','elérhetőségeken:','e-mail','cím:','bkk@bkk.hu','BKK','telefonos','ügyfélszolgálata:','+36','1','3','255','255','(a','„8”,','majd','a','„0”','menüpontot','válaszd).','Üdvözlettel:','BKK','Zrt.','Dear','Partner,', 'Please','find','attached','your','e-invoice','with','invoice','number','9204945678','about','your','fare','product', 'purchase','in','the','BudapestGO','app.', 'Should','you','have','any','questions/requests,','please','contact','our','staff','at','the','following','contact','details:\\n\\ne-mail:','bkk@bkk.hu','BKK','Call','Center:','+36','1','3','255','255,','press','option','„8”','then','„0”.', 'Kind','regards,']"
   ]
  },
  {
   "cell_type": "markdown",
   "id": "2543171e",
   "metadata": {},
   "source": [
    "1. Feladat: Iterálj végig úgy a _example_list_ listán és írd ki minden elemét a sorszámával együtt (enumerate)"
   ]
  },
  {
   "cell_type": "code",
   "execution_count": null,
   "id": "334bb07e",
   "metadata": {},
   "outputs": [],
   "source": []
  },
  {
   "cell_type": "markdown",
   "id": "873d00cc",
   "metadata": {},
   "source": [
    "2. feladat: iterálj végig egyszerre mind a két listán (zip)"
   ]
  },
  {
   "cell_type": "code",
   "execution_count": 2,
   "id": "c4d9bd42",
   "metadata": {},
   "outputs": [],
   "source": [
    "small_list_1 = [5,4,3,2,1]\n",
    "small_list_2 = ['asd', 'fsv', 'gads', 'gas', 'sem']"
   ]
  },
  {
   "cell_type": "code",
   "execution_count": null,
   "id": "34805f28",
   "metadata": {},
   "outputs": [],
   "source": []
  },
  {
   "cell_type": "markdown",
   "id": "bb1ab86c",
   "metadata": {},
   "source": [
    "3. feladat: írasd ki az _example_list_ az ötvenedik és hatvanadik elem között minden iteráció nélkül. (: operátor)"
   ]
  },
  {
   "cell_type": "code",
   "execution_count": null,
   "id": "ecbc2689",
   "metadata": {},
   "outputs": [],
   "source": []
  },
  {
   "cell_type": "markdown",
   "id": "386e6d44",
   "metadata": {},
   "source": [
    "4. Feladat írasd ki az _example_list_ utolsó 10 elemét iteráció nélkül. (: operátor és negatív indexelés)"
   ]
  },
  {
   "cell_type": "code",
   "execution_count": null,
   "id": "d462aeb3",
   "metadata": {},
   "outputs": [],
   "source": []
  },
  {
   "cell_type": "markdown",
   "id": "078c9bd7",
   "metadata": {},
   "source": [
    "5.1. Feladat: Vedd ki az _example_list_ azon elemeit, amely tartalmaz _a_ betűt és ezekből csinálj egy új listát. (list comprehension)"
   ]
  },
  {
   "cell_type": "code",
   "execution_count": null,
   "id": "756423e1",
   "metadata": {},
   "outputs": [],
   "source": []
  },
  {
   "cell_type": "markdown",
   "id": "84a59514",
   "metadata": {},
   "source": [
    "5.2. Feladat: Vedd ki az example_list azon elemeit, amely tartalmaz a betűt és ezekből csinálj egy új listát, amiben minden elem nagy betűkkel szerepel. (list comprehension)"
   ]
  },
  {
   "cell_type": "code",
   "execution_count": null,
   "id": "d624772d",
   "metadata": {},
   "outputs": [],
   "source": []
  },
  {
   "cell_type": "markdown",
   "id": "7373ac08",
   "metadata": {},
   "source": [
    "6. Feladat: Listák és tuple-k, iterálj végig a  _tuple_list_-en úgy, hogy iterálás közben felbontod a tuple-kat. (tuple unpacking)"
   ]
  },
  {
   "cell_type": "code",
   "execution_count": 3,
   "id": "a3a68b5f",
   "metadata": {},
   "outputs": [],
   "source": [
    "tuple_list = [(5, 'almafa'), (4, 'viziló'), (3, 'rabbi'), (11, 'pók'), (2, 'zsemle'), (444, 'ujsag'), (7, 'kecske')]"
   ]
  },
  {
   "cell_type": "code",
   "execution_count": null,
   "id": "2839fc45",
   "metadata": {},
   "outputs": [],
   "source": []
  },
  {
   "cell_type": "markdown",
   "id": "b4403dd5",
   "metadata": {},
   "source": [
    "7. Feladat: Készíts a _tuple_list_ szavaiból egy új listát ciklus nélkül. (tuple unpacking + list comprehension)"
   ]
  },
  {
   "cell_type": "code",
   "execution_count": null,
   "id": "fbf03961",
   "metadata": {},
   "outputs": [],
   "source": []
  },
  {
   "cell_type": "markdown",
   "id": "ee9ee634",
   "metadata": {},
   "source": [
    "8.1. Feladat: Add meg a _not_unique_list_ egyedi elemeit. (set)"
   ]
  },
  {
   "cell_type": "code",
   "execution_count": 4,
   "id": "d01d7d91",
   "metadata": {},
   "outputs": [],
   "source": [
    "not_unique_list = ['alma', 'korte', 'csoki', 'alma', 'fuji', 'korte', 'alma', 'csoki', 'hegy', 'terep', 'fuji']"
   ]
  },
  {
   "cell_type": "markdown",
   "id": "371af825",
   "metadata": {},
   "source": [
    "8.2 Feladat: Add meg a _not_unique_list_ és a _not_unique_list_2_ közös elemeit. (set)"
   ]
  },
  {
   "cell_type": "code",
   "execution_count": 6,
   "id": "2e6ca250",
   "metadata": {},
   "outputs": [],
   "source": [
    "not_unique_list_2 = ['fuji', 'korte', 'fank', 'cseresznye', 'puding', 'alma', 'korte', 'fank', 'csiga']"
   ]
  },
  {
   "cell_type": "code",
   "execution_count": null,
   "id": "705b03cc",
   "metadata": {},
   "outputs": [],
   "source": []
  },
  {
   "cell_type": "markdown",
   "id": "5caf1b00",
   "metadata": {},
   "source": [
    "8.3 Feladat: Add meg azokat az elemeket, amik benne vannak a _not_unique_list_-be, de nincsenek benne a _not_unique_list_2_-ben. (set)"
   ]
  },
  {
   "cell_type": "code",
   "execution_count": null,
   "id": "8cbe3f05",
   "metadata": {},
   "outputs": [],
   "source": []
  },
  {
   "cell_type": "markdown",
   "id": "668524d2",
   "metadata": {},
   "source": [
    "8.4 Feladat: Add meg a két lista közös egyedi elemeinek az únióját. (set)"
   ]
  },
  {
   "cell_type": "code",
   "execution_count": null,
   "id": "69dc1111",
   "metadata": {},
   "outputs": [],
   "source": []
  }
 ],
 "metadata": {
  "kernelspec": {
   "display_name": "Python 3 (ipykernel)",
   "language": "python",
   "name": "python3"
  },
  "language_info": {
   "codemirror_mode": {
    "name": "ipython",
    "version": 3
   },
   "file_extension": ".py",
   "mimetype": "text/x-python",
   "name": "python",
   "nbconvert_exporter": "python",
   "pygments_lexer": "ipython3",
   "version": "3.10.8"
  }
 },
 "nbformat": 4,
 "nbformat_minor": 5
}
